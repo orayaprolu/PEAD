{
 "cells": [
  {
   "cell_type": "code",
   "execution_count": 1,
   "metadata": {},
   "outputs": [],
   "source": [
    "# Imports\n",
    "import yfinance as yf\n",
    "import pandas as pd\n",
    "import numpy as np\n",
    "from metrics import calculate_ear, calculate_sue, find_earnings_date"
   ]
  },
  {
   "cell_type": "code",
   "execution_count": null,
   "metadata": {},
   "outputs": [
    {
     "data": {
      "text/plain": [
       "0       MMM\n",
       "1       AOS\n",
       "2       ABT\n",
       "3      ABBV\n",
       "4       ACN\n",
       "       ... \n",
       "498     XYL\n",
       "499     YUM\n",
       "500    ZBRA\n",
       "501     ZBH\n",
       "502     ZTS\n",
       "Name: Symbol, Length: 503, dtype: object"
      ]
     },
     "execution_count": 2,
     "metadata": {},
     "output_type": "execute_result"
    }
   ],
   "source": [
    "# Finds all tickers in s&p 500 currently ( Use the github I found)\n",
    "sp500 = pd.read_csv('sp500.csv', usecols=['Symbol', 'GICS Sector'])\n",
    "modified_sp500 = sp500.loc[~sp500['GICS Sector'].isin(['Financials', 'Utilities'])]\n",
    "modified_sp500_tickers = sp500['Symbol']\n",
    "\n",
    "modified_sp500_tickers\n"
   ]
  },
  {
   "cell_type": "code",
   "execution_count": null,
   "metadata": {},
   "outputs": [
    {
     "ename": "NameError",
     "evalue": "name 'find_earnings_date' is not defined",
     "output_type": "error",
     "traceback": [
      "\u001b[0;31m---------------------------------------------------------------------------\u001b[0m",
      "\u001b[0;31mNameError\u001b[0m                                 Traceback (most recent call last)",
      "Cell \u001b[0;32mIn[1], line 2\u001b[0m\n\u001b[1;32m      1\u001b[0m ticker \u001b[38;5;241m=\u001b[39m \u001b[38;5;124m\"\u001b[39m\u001b[38;5;124mMSFT\u001b[39m\u001b[38;5;124m\"\u001b[39m\n\u001b[0;32m----> 2\u001b[0m latest_earnings_date \u001b[38;5;241m=\u001b[39m \u001b[43mfind_earnings_date\u001b[49m(ticker, \u001b[38;5;241m1\u001b[39m)\n\u001b[1;32m      4\u001b[0m ear \u001b[38;5;241m=\u001b[39m calculate_ear(ticker, \u001b[38;5;124m\"\u001b[39m\u001b[38;5;124mSPY\u001b[39m\u001b[38;5;124m\"\u001b[39m, latest_earnings_date )\n\u001b[1;32m      5\u001b[0m sue \u001b[38;5;241m=\u001b[39m calculate_sue(ticker, latest_earnings_date)\n",
      "\u001b[0;31mNameError\u001b[0m: name 'find_earnings_date' is not defined"
     ]
    }
   ],
   "source": [
    "ticker = \"MSFT\"\n",
    "latest_earnings_date = find_earnings_date(ticker, 2024, 4)\n",
    " \n",
    "ear = calculate_ear(ticker, \"SPY\", latest_earnings_date )\n",
    "sue = calculate_sue(ticker, latest_earnings_date)\n",
    "\n",
    "print(latest_earnings_date)\n",
    "print(ear, sue)\n"
   ]
  }
 ],
 "metadata": {
  "kernelspec": {
   "display_name": "Python 3",
   "language": "python",
   "name": "python3"
  },
  "language_info": {
   "codemirror_mode": {
    "name": "ipython",
    "version": 3
   },
   "file_extension": ".py",
   "mimetype": "text/x-python",
   "name": "python",
   "nbconvert_exporter": "python",
   "pygments_lexer": "ipython3",
   "version": "3.12.3"
  }
 },
 "nbformat": 4,
 "nbformat_minor": 2
}
